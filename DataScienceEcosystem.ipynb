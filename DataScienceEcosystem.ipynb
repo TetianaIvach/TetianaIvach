{
 "cells": [
  {
   "cell_type": "markdown",
   "id": "3be05dfd-47e7-4a3d-b565-86c9af97406d",
   "metadata": {},
   "source": [
    "# Data Science Tools and Ecosystem"
   ]
  },
  {
   "cell_type": "markdown",
   "id": "8856a82a-36d6-4203-9ad7-2c1e494e9fa2",
   "metadata": {},
   "source": [
    "In this notebook, Data Science Tools and Ecosystem are summarized."
   ]
  },
  {
   "cell_type": "markdown",
   "id": "01f6db6e-4117-4755-9164-3f750ddf40b5",
   "metadata": {},
   "source": [
    "_Objectives:_\n",
    "- List popular languages for Data Science\n",
    "- List of the commonly used libraries used by Data Scientists\n",
    "- Data Science Tools\n",
    "- A few examples of evaluating arithmetic expressions in Python"
   ]
  },
  {
   "cell_type": "markdown",
   "id": "5a8018d1-3302-4276-abd0-72c5877fd233",
   "metadata": {},
   "source": [
    "Some of the popular languages that Data Scientists use are:\n",
    "1. Python\n",
    "2. SQL\n",
    "3. R\n",
    "4. Julia\n"
   ]
  },
  {
   "cell_type": "markdown",
   "id": "b7a9892c-71a4-4900-aa40-81b72a21180e",
   "metadata": {},
   "source": [
    "Some of the commonly used libraries used by Data Scientists include:\n",
    "1. Pandas\n",
    "2. Numpy\n",
    "3. Matplotlib\n",
    "4. Seaborn"
   ]
  },
  {
   "cell_type": "markdown",
   "id": "e95423e7-ba8c-4d88-84b5-7aadbf553e80",
   "metadata": {
    "tags": []
   },
   "source": [
    "|Data Science Tools|\n",
    "|-----------------|\n",
    "| Jupyter Notebooks |\n",
    "| Git Hub |\n",
    "| Python |\n",
    "\n"
   ]
  },
  {
   "cell_type": "markdown",
   "id": "0c152a51-dbc7-43da-baf0-b9185b0d8485",
   "metadata": {},
   "source": [
    "### Below are a few examples of evaluating arithmetic expressions in Python"
   ]
  },
  {
   "cell_type": "code",
   "execution_count": 6,
   "id": "584d801e-0c57-4a81-9a57-2da131d74840",
   "metadata": {
    "tags": []
   },
   "outputs": [
    {
     "data": {
      "text/plain": [
       "17"
      ]
     },
     "execution_count": 6,
     "metadata": {},
     "output_type": "execute_result"
    }
   ],
   "source": [
    "#This a simple arithmetic expression to mutiply then add integers\n",
    "(3*4)+5"
   ]
  },
  {
   "cell_type": "code",
   "execution_count": 1,
   "id": "9de9d9d2-493d-44e1-aeb8-e1d9c4941c5d",
   "metadata": {
    "tags": []
   },
   "outputs": [
    {
     "data": {
      "text/plain": [
       "3.3333333333333335"
      ]
     },
     "execution_count": 1,
     "metadata": {},
     "output_type": "execute_result"
    }
   ],
   "source": [
    "#This will convert 200 minutes to hours by diving by 60\n",
    "200/60"
   ]
  },
  {
   "cell_type": "markdown",
   "id": "cfc52230-ab5d-458a-a385-028637047e6e",
   "metadata": {},
   "source": [
    "## Author\n",
    "Tetiana Ivachevska"
   ]
  },
  {
   "cell_type": "code",
   "execution_count": null,
   "id": "14d53934-3194-4493-ac26-bdbbd8856bc3",
   "metadata": {},
   "outputs": [],
   "source": []
  }
 ],
 "metadata": {
  "kernelspec": {
   "display_name": "Python",
   "language": "python",
   "name": "conda-env-python-py"
  },
  "language_info": {
   "codemirror_mode": {
    "name": "ipython",
    "version": 3
   },
   "file_extension": ".py",
   "mimetype": "text/x-python",
   "name": "python",
   "nbconvert_exporter": "python",
   "pygments_lexer": "ipython3",
   "version": "3.7.12"
  }
 },
 "nbformat": 4,
 "nbformat_minor": 5
}
